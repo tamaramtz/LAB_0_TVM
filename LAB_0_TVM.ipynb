{
 "cells": [
  {
   "cell_type": "markdown",
   "metadata": {},
   "source": [
    "<img src=\"http://oci02.img.iteso.mx/identidad_de_instancia_2018/ITESO/Logos%20ITESO/Logo-ITESO-Principal.jpg\">"
   ]
  },
  {
   "cell_type": "markdown",
   "metadata": {},
   "source": [
    "<center> <font color= #004A94> <font size = 6> Lic. Ingeniería Financiera </font> <br> <br> <font color= #047CFB> <font size = 4>I.F. Tamara Martínez - if709156@iteso.mx </font>"
   ]
  },
  {
   "cell_type": "markdown",
   "metadata": {},
   "source": [
    "<center><font color= #004A94> <font size = 6> Microestructura y Sistemas de Trading </font> <br> <br>"
   ]
  },
  {
   "cell_type": "markdown",
   "metadata": {},
   "source": [
    "<center><font color=#42c29b><font size=5> Laboratorio 0: Repaso de Python </font> <br> <br>"
   ]
  },
  {
   "cell_type": "markdown",
   "metadata": {},
   "source": [
    "<center> <font color= #047CFB> <font size = 4> Primavera 2020 </font>  |  <font color= #047CFB> <font size = 4> Repositorio: <a href='https://github.com/tamaramtz/LAB_0_TVM.git'>Link</a></font>"
   ]
  },
  {
   "cell_type": "markdown",
   "metadata": {},
   "source": [
    "---"
   ]
  },
  {
   "cell_type": "markdown",
   "metadata": {},
   "source": [
    "# Resumen"
   ]
  },
  {
   "cell_type": "markdown",
   "metadata": {},
   "source": [
    "En este laboratorio se generó nueva información de los precios a partir de los históricos en formato  OHLC (Open, High, Low, Close). Esta nueva información generada, la mayoría almacenada como nuevas columnas dentro del DataFrame que contiene los precios históricos OHLC, fue utilizada también como \"variables explicativas\" en modelos predictivos (ya sean de regresión o de clasificación). El enfóque de los cálculos que se realizaron para este laboratorio es \"estadístico\" utilizando información de las \"velas\".  También se graficó utilizando la librería de Plotly, todo esto utilizando una lógica de organizar el código con base a \"funciones\" y scripts separados (algo bastante útil para proyectos aplicados de python)."
   ]
  },
  {
   "cell_type": "markdown",
   "metadata": {},
   "source": [
    "# Codigo"
   ]
  },
  {
   "cell_type": "markdown",
   "metadata": {},
   "source": [
    "Importar las librerías utilizadas."
   ]
  },
  {
   "cell_type": "code",
   "execution_count": 1,
   "metadata": {},
   "outputs": [
    {
     "ename": "ModuleNotFoundError",
     "evalue": "No module named 'funciones'",
     "output_type": "error",
     "traceback": [
      "\u001b[1;31m---------------------------------------------------------------------------\u001b[0m",
      "\u001b[1;31mModuleNotFoundError\u001b[0m                       Traceback (most recent call last)",
      "\u001b[1;32m<ipython-input-1-19bbe2dba53c>\u001b[0m in \u001b[0;36m<module>\u001b[1;34m\u001b[0m\n\u001b[1;32m----> 1\u001b[1;33m \u001b[1;32mimport\u001b[0m \u001b[0mfunciones\u001b[0m \u001b[1;32mas\u001b[0m \u001b[0mfn\u001b[0m                              \u001b[1;31m# Para procesamiento de datos\u001b[0m\u001b[1;33m\u001b[0m\u001b[1;33m\u001b[0m\u001b[0m\n\u001b[0m\u001b[0;32m      2\u001b[0m \u001b[1;32mimport\u001b[0m \u001b[0mvisualizaciones\u001b[0m \u001b[1;32mas\u001b[0m \u001b[0mvs\u001b[0m                        \u001b[1;31m# Para visualizacion de datos\u001b[0m\u001b[1;33m\u001b[0m\u001b[1;33m\u001b[0m\u001b[0m\n\u001b[0;32m      3\u001b[0m \u001b[1;32mimport\u001b[0m \u001b[0mpandas\u001b[0m \u001b[1;32mas\u001b[0m \u001b[0mpd\u001b[0m                                 \u001b[1;31m# Procesamiento de datos\u001b[0m\u001b[1;33m\u001b[0m\u001b[1;33m\u001b[0m\u001b[0m\n\u001b[0;32m      4\u001b[0m \u001b[1;32mfrom\u001b[0m \u001b[0mdatos\u001b[0m \u001b[1;32mimport\u001b[0m \u001b[0mOA_Ak\u001b[0m                             \u001b[1;31m# Importar token para API de OANDA\u001b[0m\u001b[1;33m\u001b[0m\u001b[1;33m\u001b[0m\u001b[0m\n",
      "\u001b[1;31mModuleNotFoundError\u001b[0m: No module named 'funciones'"
     ]
    }
   ],
   "source": [
    "import funciones as fn                              # Para procesamiento de datos\n",
    "import visualizaciones as vs                        # Para visualizacion de datos\n",
    "import pandas as pd                                 # Procesamiento de datos\n",
    "from datos import OA_Ak                             # Importar token para API de OANDA"
   ]
  },
  {
   "cell_type": "markdown",
   "metadata": {},
   "source": [
    "Descargamos los precios masivos de OANDA."
   ]
  },
  {
   "cell_type": "code",
   "execution_count": null,
   "metadata": {},
   "outputs": [],
   "source": [
    "OA_In = \"EUR_USD\"                                   # Instrumento\n",
    "OA_Gn = \"D\"                                         # Granularidad de velas\n",
    "fini = pd.to_datetime(\"2018-07-06 00:00:00\").tz_localize('GMT')  # Fecha inicial\n",
    "ffin = pd.to_datetime(\"2019-12-06 00:00:00\").tz_localize('GMT')  # Fecha final\n",
    "# Descargar precios masivos\n",
    "df_pe = fn.f_precios_masivos(p0_fini=fini, p1_ffin=ffin, p2_gran=OA_Gn,\n",
    "                             p3_inst=OA_In, p4_oatk=OA_Ak, p5_ginc=4900)"
   ]
  },
  {
   "cell_type": "markdown",
   "metadata": {},
   "source": [
    "Grafica de los OHLC (Open, High, Low, Close) "
   ]
  },
  {
   "cell_type": "code",
   "execution_count": null,
   "metadata": {},
   "outputs": [],
   "source": [
    "vs_grafica1 = vs.g_velas(p0_de=df_pe.iloc[0:120, :])\n",
    "vs_grafica1.show()"
   ]
  },
  {
   "cell_type": "markdown",
   "metadata": {},
   "source": [
    "Se hace un conteo de velas."
   ]
  },
  {
   "cell_type": "code",
   "execution_count": null,
   "metadata": {},
   "outputs": [],
   "source": [
    "\n",
    "# multiplicador de precios\n",
    "pip_mult = 10000\n",
    "\n",
    "# -- 0A.1: Hora\n",
    "df_pe['hora'] = [df_pe['TimeStamp'][i].hour for i in range(0, len(df_pe['TimeStamp']))]\n",
    "\n",
    "# -- 0A.2: Dia de la semana.\n",
    "df_pe['dia'] = [df_pe['TimeStamp'][i].weekday() for i in range(0, len(df_pe['TimeStamp']))]\n",
    "\n",
    "# -- 0B: Boxplot de amplitud de velas (close - open).\n",
    "df_pe['co'] = (df_pe['Close'] - df_pe['Open']) * pip_mult\n",
    "\n",
    "# -- ------------------------------------------------------------ Graficar Boxplot plotly -- #\n",
    "vs_grafica2 = vs.g_boxplot_varios(p0_data=df_pe[['co']], p1_norm=False)\n",
    "vs_grafica2.show("
   ]
  },
  {
   "cell_type": "markdown",
   "metadata": {},
   "source": [
    "## Las funciones que se desarrollaron individualmente son las siguientes:"
   ]
  },
  {
   "cell_type": "markdown",
   "metadata": {},
   "source": [
    "### Mes en el que ocurrió la vela.\n",
    "Utilizando la columna de TimeStamp calcula el \"Mes\" en el que ocurrió la vela."
   ]
  },
  {
   "cell_type": "code",
   "execution_count": null,
   "metadata": {},
   "outputs": [],
   "source": [
    "# -- 01 Mes en el que ocurrió la vela.\n",
    "df_pe['mes'] = [df_pe['TimeStamp'][i].month for i in range(0, len(df_pe['TimeStamp']))]"
   ]
  },
  {
   "cell_type": "markdown",
   "metadata": {},
   "source": [
    "### Sesion de la vela\n",
    "Sesión bursátil en la que ocurrió la vela,  el valor dentro de la columna deberás de colocarlo siguiendo la siguiente regla:\n",
    "\n",
    "'asia':  si en la columna ['hora'] tiene alguno de estos valores -> 22, 23, 0, 1, 2, 3, 4, 5, 6, 7\n",
    "'asia_europa': si en la columna ['hora'] tiene alguno de estos valores -> 8\n",
    "'europa': si en la columna ['hora'] tiene alguno de estos valores -> 9, 10, 11, 12 \n",
    "'europa_america': si en la columna ['hora'] tiene alguno de estos valores -> 13, 14, 15, 16\n",
    "'america': si en la columna ['hora'] tiene alguno de estos valores -> 17, 18, 19, 20, 21"
   ]
  },
  {
   "cell_type": "code",
   "execution_count": null,
   "metadata": {},
   "outputs": [],
   "source": [
    "for i in range(0, len(df_pe['hora'])):\n",
    "    if df_pe['hora'][i] in [22, 23, 0, 1, 2, 3, 4, 5, 6, 7]:\n",
    "        df_pe['sesion'] = 'asia'\n",
    "    elif df_pe['hora'][i] in [8]:\n",
    "        df_pe['sesion'] = 'asia_europa'\n",
    "    elif df_pe['hora'][i] in [9, 10, 11, 12]:\n",
    "        df_pe['sesion'] = 'europa'\n",
    "    elif df_pe['hora'][i] in [13, 14, 15, 16]:\n",
    "        df_pe['sesion'] = 'europa_america'\n",
    "    elif df_pe['hora'][i] in [17, 18, 19, 20, 21]:\n",
    "        df_pe['sesion'] = 'america'"
   ]
  },
  {
   "cell_type": "markdown",
   "metadata": {},
   "source": [
    "### Amplitud de vela (en pips).\n",
    "Calcular la diferencia entre las columnas ['Open'] y ['Close'], expresarla en pips."
   ]
  },
  {
   "cell_type": "code",
   "execution_count": null,
   "metadata": {},
   "outputs": [],
   "source": [
    "# -- 03 Amplitud de vela (en pips).\n",
    "df_pe['oc'] = (df_pe['Open'] - df_pe['Close'])*pip_mult"
   ]
  },
  {
   "cell_type": "markdown",
   "metadata": {},
   "source": [
    "### Amplitud de extremos (en pips).\n",
    "Calcular la diferencia entre las columnas ['High'] y ['Low'], expresarla en pips."
   ]
  },
  {
   "cell_type": "code",
   "execution_count": null,
   "metadata": {},
   "outputs": [],
   "source": [
    "# -- 04 Amplitud de los extremos (en pips).\n",
    "df_pe['hl'] = (df_pe['High'] - df_pe['Low'])*pip_mult"
   ]
  },
  {
   "cell_type": "markdown",
   "metadata": {},
   "source": [
    "### Sentido de la vela (alcista o bajista)\n",
    "En esta columna debes de asignarle el valor de 'alcista' para cuando ['Close'] >= ['Open'] y 'bajista' en el caso contrario."
   ]
  },
  {
   "cell_type": "code",
   "execution_count": null,
   "metadata": {},
   "outputs": [],
   "source": [
    "# -- 05 Sentido de la vela (alcista o bajista)\n",
    "df_pe['sentido'] = [\"alcista\" if df_pe['Close'][i] >= df_pe['Open'][i] else \"bajista\"\n",
    "                            for i in range(0, len(df_pe['Close']))]"
   ]
  },
  {
   "cell_type": "markdown",
   "metadata": {},
   "source": [
    "### Conteo de velas consecutivas alcistas/bajistas.\n",
    "En el DataFrame de los precios OHLC, para cada renglon, ir acumulando el valor de velas consecutivas ALCISTAS o BAJISTAS e ir haciendo el conteo de ocurrencia para cada caso. Se comienza el conteo a partir de la primera repetición, por ejemplo, ['sentido_c'] tendrá un 2  en el tiempo t cuando en el tiempo t-2 y tiempo t-1 haya sido el mismo valor que en el tiempo t. En este ejemplo ['sentido_c'] tendría un 2 (en el tiempo t-2 fue la primera vela, y la vela en tiempo t-1 y en tiempo t fueron 2 velas fueron consecutivamente en el mismo sentido)"
   ]
  },
  {
   "cell_type": "code",
   "execution_count": null,
   "metadata": {},
   "outputs": [],
   "source": [
    "df_pe.loc[0,'conteo_c'] = 0 #primer dato de la columna\n",
    "x=0\n",
    "for i in range(1, len(df_pe['sentido'])):\n",
    "    if df_pe['sentido'][i] == df_pe['sentido'][i-1]:\n",
    "        x += 1\n",
    "        df_pe.loc[i,'conteo_c'] = x\n",
    "    else:\n",
    "        x = 0\n",
    "        df_pe.loc[i,'conteo_c'] = x\n"
   ]
  },
  {
   "cell_type": "markdown",
   "metadata": {},
   "source": [
    "### Ventanas móviles de volatilidad\n",
    "Utiliza la columna de ['hl'] como una medida de \"volatilidad\" en pips de las velas. Con esta columna, genera las siguientes columnas haciendo una \"ventana móvil\" del máximo de esos últimos n valores. Las columnas serán 3, una para cada valor de la \"volatilidad móvil\" para 5, 25 y 50 velas de histórico respectivamente.\n",
    "\n",
    "['volatilidad_5']: Utilizando la información de las 5 anteriores velas.\n",
    "['volatilidad_25']: Utilizando la información de las 25 anteriores velas.\n",
    "['volatilidad_50']: Utilizando la información de las 50 anteriores velas."
   ]
  },
  {
   "cell_type": "code",
   "execution_count": null,
   "metadata": {},
   "outputs": [],
   "source": [
    "# -- 07 Ventanas móviles de volatilidad.\n",
    "df_pe['volatilidad_5'] = df_pe.iloc[:, 11].rolling(window=5).mean() #volalitilidad con 5\n",
    "df_pe['volatilidad_25'] = df_pe.iloc[:, 11].rolling(window=25).mean() #volalitilidad con 25\n",
    "df_pe['volatilidad_50'] = df_pe.iloc[:, 11].rolling(window=50).mean() #volalitilidad con 50"
   ]
  },
  {
   "cell_type": "markdown",
   "metadata": {},
   "source": [
    "### Gráfica con Plotly\n",
    "Realiza una propuesta de gráfica utilizando alguna de las columnas que has generado y la librería plotly. Las reglas son las siguientes:\n",
    "\n",
    "Tiene que tener título de gráfica\n",
    "Tiene que tener título de eje x y etiquetas de eje x\n",
    "Tiene que tener título de eje y y etiquetas de eje y\n",
    "Se debe de poder visualizar una leyenda (en cualquier posición)."
   ]
  },
  {
   "cell_type": "code",
   "execution_count": null,
   "metadata": {},
   "outputs": [],
   "source": [
    "# -- 08 Gráfica con Plotly\n",
    "import plotly.graph_objects as go\n",
    "fig = go.Figure()\n",
    "fig.add_trace(go.Scatter(x=df_pe['TimeStamp'], y=df_pe['hl'], name=\"High-Low\", line_shape='spline'))\n",
    "fig.update_layout(title='Average High and Low prices',\n",
    "                   xaxis_title='TimeStamp',\n",
    "                   yaxis_title='Price')\n",
    "fig.show()"
   ]
  }
 ],
 "metadata": {
  "kernelspec": {
   "display_name": "Python 3",
   "language": "python",
   "name": "python3"
  },
  "language_info": {
   "codemirror_mode": {
    "name": "ipython",
    "version": 3
   },
   "file_extension": ".py",
   "mimetype": "text/x-python",
   "name": "python",
   "nbconvert_exporter": "python",
   "pygments_lexer": "ipython3",
   "version": "3.7.1"
  }
 },
 "nbformat": 4,
 "nbformat_minor": 2
}
